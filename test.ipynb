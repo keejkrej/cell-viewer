{
 "cells": [
  {
   "cell_type": "code",
   "execution_count": 2,
   "id": "671e6697",
   "metadata": {},
   "outputs": [],
   "source": [
    "import numpy as np\n"
   ]
  },
  {
   "cell_type": "code",
   "execution_count": 3,
   "id": "66919da6",
   "metadata": {},
   "outputs": [],
   "source": [
    "data = np.load('data/view_000_pattern_015_000.npy')"
   ]
  },
  {
   "cell_type": "code",
   "execution_count": 4,
   "id": "66003c97",
   "metadata": {},
   "outputs": [
    {
     "data": {
      "text/plain": [
       "(73, 3, 73, 125)"
      ]
     },
     "execution_count": 4,
     "metadata": {},
     "output_type": "execute_result"
    }
   ],
   "source": [
    "data.shape"
   ]
  },
  {
   "cell_type": "code",
   "execution_count": null,
   "id": "47cb80f4",
   "metadata": {},
   "outputs": [],
   "source": []
  }
 ],
 "metadata": {
  "kernelspec": {
   "display_name": ".venv",
   "language": "python",
   "name": "python3"
  },
  "language_info": {
   "codemirror_mode": {
    "name": "ipython",
    "version": 3
   },
   "file_extension": ".py",
   "mimetype": "text/x-python",
   "name": "python",
   "nbconvert_exporter": "python",
   "pygments_lexer": "ipython3",
   "version": "3.12.11"
  }
 },
 "nbformat": 4,
 "nbformat_minor": 5
}
